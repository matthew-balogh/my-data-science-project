{
 "cells": [
  {
   "cell_type": "code",
   "execution_count": 1,
   "id": "aa147033",
   "metadata": {},
   "outputs": [],
   "source": [
    "import panel as pn"
   ]
  },
  {
   "cell_type": "code",
   "execution_count": 2,
   "id": "1459ebbe",
   "metadata": {},
   "outputs": [
    {
     "data": {
      "application/javascript": "(function(root) {\n  function now() {\n    return new Date();\n  }\n\n  var force = true;\n  var py_version = '3.4.3'.replace('rc', '-rc.').replace('.dev', '-dev.');\n  var reloading = false;\n  var Bokeh = root.Bokeh;\n\n  if (typeof (root._bokeh_timeout) === \"undefined\" || force) {\n    root._bokeh_timeout = Date.now() + 5000;\n    root._bokeh_failed_load = false;\n  }\n\n  function run_callbacks() {\n    try {\n      root._bokeh_onload_callbacks.forEach(function(callback) {\n        if (callback != null)\n          callback();\n      });\n    } finally {\n      delete root._bokeh_onload_callbacks;\n    }\n    console.debug(\"Bokeh: all callbacks have finished\");\n  }\n\n  function load_libs(css_urls, js_urls, js_modules, js_exports, callback) {\n    if (css_urls == null) css_urls = [];\n    if (js_urls == null) js_urls = [];\n    if (js_modules == null) js_modules = [];\n    if (js_exports == null) js_exports = {};\n\n    root._bokeh_onload_callbacks.push(callback);\n\n    if (root._bokeh_is_loading > 0) {\n      console.debug(\"Bokeh: BokehJS is being loaded, scheduling callback at\", now());\n      return null;\n    }\n    if (js_urls.length === 0 && js_modules.length === 0 && Object.keys(js_exports).length === 0) {\n      run_callbacks();\n      return null;\n    }\n    if (!reloading) {\n      console.debug(\"Bokeh: BokehJS not loaded, scheduling load and callback at\", now());\n    }\n\n    function on_load() {\n      root._bokeh_is_loading--;\n      if (root._bokeh_is_loading === 0) {\n        console.debug(\"Bokeh: all BokehJS libraries/stylesheets loaded\");\n        run_callbacks()\n      }\n    }\n    window._bokeh_on_load = on_load\n\n    function on_error() {\n      console.error(\"failed to load \" + url);\n    }\n\n    var skip = [];\n    if (window.requirejs) {\n      window.requirejs.config({'packages': {}, 'paths': {}, 'shim': {}});\n      root._bokeh_is_loading = css_urls.length + 0;\n    } else {\n      root._bokeh_is_loading = css_urls.length + js_urls.length + js_modules.length + Object.keys(js_exports).length;\n    }\n\n    var existing_stylesheets = []\n    var links = document.getElementsByTagName('link')\n    for (var i = 0; i < links.length; i++) {\n      var link = links[i]\n      if (link.href != null) {\n\texisting_stylesheets.push(link.href)\n      }\n    }\n    for (var i = 0; i < css_urls.length; i++) {\n      var url = css_urls[i];\n      if (existing_stylesheets.indexOf(url) !== -1) {\n\ton_load()\n\tcontinue;\n      }\n      const element = document.createElement(\"link\");\n      element.onload = on_load;\n      element.onerror = on_error;\n      element.rel = \"stylesheet\";\n      element.type = \"text/css\";\n      element.href = url;\n      console.debug(\"Bokeh: injecting link tag for BokehJS stylesheet: \", url);\n      document.body.appendChild(element);\n    }    var existing_scripts = []\n    var scripts = document.getElementsByTagName('script')\n    for (var i = 0; i < scripts.length; i++) {\n      var script = scripts[i]\n      if (script.src != null) {\n\texisting_scripts.push(script.src)\n      }\n    }\n    for (var i = 0; i < js_urls.length; i++) {\n      var url = js_urls[i];\n      if (skip.indexOf(url) !== -1 || existing_scripts.indexOf(url) !== -1) {\n\tif (!window.requirejs) {\n\t  on_load();\n\t}\n\tcontinue;\n      }\n      var element = document.createElement('script');\n      element.onload = on_load;\n      element.onerror = on_error;\n      element.async = false;\n      element.src = url;\n      console.debug(\"Bokeh: injecting script tag for BokehJS library: \", url);\n      document.head.appendChild(element);\n    }\n    for (var i = 0; i < js_modules.length; i++) {\n      var url = js_modules[i];\n      if (skip.indexOf(url) !== -1 || existing_scripts.indexOf(url) !== -1) {\n\tif (!window.requirejs) {\n\t  on_load();\n\t}\n\tcontinue;\n      }\n      var element = document.createElement('script');\n      element.onload = on_load;\n      element.onerror = on_error;\n      element.async = false;\n      element.src = url;\n      element.type = \"module\";\n      console.debug(\"Bokeh: injecting script tag for BokehJS library: \", url);\n      document.head.appendChild(element);\n    }\n    for (const name in js_exports) {\n      var url = js_exports[name];\n      if (skip.indexOf(url) >= 0 || root[name] != null) {\n\tif (!window.requirejs) {\n\t  on_load();\n\t}\n\tcontinue;\n      }\n      var element = document.createElement('script');\n      element.onerror = on_error;\n      element.async = false;\n      element.type = \"module\";\n      console.debug(\"Bokeh: injecting script tag for BokehJS library: \", url);\n      element.textContent = `\n      import ${name} from \"${url}\"\n      window.${name} = ${name}\n      window._bokeh_on_load()\n      `\n      document.head.appendChild(element);\n    }\n    if (!js_urls.length && !js_modules.length) {\n      on_load()\n    }\n  };\n\n  function inject_raw_css(css) {\n    const element = document.createElement(\"style\");\n    element.appendChild(document.createTextNode(css));\n    document.body.appendChild(element);\n  }\n\n  var js_urls = [\"https://cdn.bokeh.org/bokeh/release/bokeh-3.4.3.min.js\", \"https://cdn.bokeh.org/bokeh/release/bokeh-gl-3.4.3.min.js\", \"https://cdn.bokeh.org/bokeh/release/bokeh-widgets-3.4.3.min.js\", \"https://cdn.bokeh.org/bokeh/release/bokeh-tables-3.4.3.min.js\", \"https://cdn.holoviz.org/panel/1.4.5/dist/panel.min.js\"];\n  var js_modules = [];\n  var js_exports = {};\n  var css_urls = [];\n  var inline_js = [    function(Bokeh) {\n      Bokeh.set_log_level(\"info\");\n    },\nfunction(Bokeh) {} // ensure no trailing comma for IE\n  ];\n\n  function run_inline_js() {\n    if ((root.Bokeh !== undefined) || (force === true)) {\n      for (var i = 0; i < inline_js.length; i++) {\n\ttry {\n          inline_js[i].call(root, root.Bokeh);\n\t} catch(e) {\n\t  if (!reloading) {\n\t    throw e;\n\t  }\n\t}\n      }\n      // Cache old bokeh versions\n      if (Bokeh != undefined && !reloading) {\n\tvar NewBokeh = root.Bokeh;\n\tif (Bokeh.versions === undefined) {\n\t  Bokeh.versions = new Map();\n\t}\n\tif (NewBokeh.version !== Bokeh.version) {\n\t  Bokeh.versions.set(NewBokeh.version, NewBokeh)\n\t}\n\troot.Bokeh = Bokeh;\n      }} else if (Date.now() < root._bokeh_timeout) {\n      setTimeout(run_inline_js, 100);\n    } else if (!root._bokeh_failed_load) {\n      console.log(\"Bokeh: BokehJS failed to load within specified timeout.\");\n      root._bokeh_failed_load = true;\n    }\n    root._bokeh_is_initializing = false\n  }\n\n  function load_or_wait() {\n    // Implement a backoff loop that tries to ensure we do not load multiple\n    // versions of Bokeh and its dependencies at the same time.\n    // In recent versions we use the root._bokeh_is_initializing flag\n    // to determine whether there is an ongoing attempt to initialize\n    // bokeh, however for backward compatibility we also try to ensure\n    // that we do not start loading a newer (Panel>=1.0 and Bokeh>3) version\n    // before older versions are fully initialized.\n    if (root._bokeh_is_initializing && Date.now() > root._bokeh_timeout) {\n      root._bokeh_is_initializing = false;\n      root._bokeh_onload_callbacks = undefined;\n      console.log(\"Bokeh: BokehJS was loaded multiple times but one version failed to initialize.\");\n      load_or_wait();\n    } else if (root._bokeh_is_initializing || (typeof root._bokeh_is_initializing === \"undefined\" && root._bokeh_onload_callbacks !== undefined)) {\n      setTimeout(load_or_wait, 100);\n    } else {\n      root._bokeh_is_initializing = true\n      root._bokeh_onload_callbacks = []\n      var bokeh_loaded = Bokeh != null && (Bokeh.version === py_version || (Bokeh.versions !== undefined && Bokeh.versions.has(py_version)));\n      if (!reloading && !bokeh_loaded) {\n\troot.Bokeh = undefined;\n      }\n      load_libs(css_urls, js_urls, js_modules, js_exports, function() {\n\tconsole.debug(\"Bokeh: BokehJS plotting callback run at\", now());\n\trun_inline_js();\n      });\n    }\n  }\n  // Give older versions of the autoload script a head-start to ensure\n  // they initialize before we start loading newer version.\n  setTimeout(load_or_wait, 100)\n}(window));",
      "application/vnd.holoviews_load.v0+json": ""
     },
     "metadata": {},
     "output_type": "display_data"
    },
    {
     "data": {
      "application/javascript": "\nif ((window.PyViz === undefined) || (window.PyViz instanceof HTMLElement)) {\n  window.PyViz = {comms: {}, comm_status:{}, kernels:{}, receivers: {}, plot_index: []}\n}\n\n\n    function JupyterCommManager() {\n    }\n\n    JupyterCommManager.prototype.register_target = function(plot_id, comm_id, msg_handler) {\n      if (window.comm_manager || ((window.Jupyter !== undefined) && (Jupyter.notebook.kernel != null))) {\n        var comm_manager = window.comm_manager || Jupyter.notebook.kernel.comm_manager;\n        comm_manager.register_target(comm_id, function(comm) {\n          comm.on_msg(msg_handler);\n        });\n      } else if ((plot_id in window.PyViz.kernels) && (window.PyViz.kernels[plot_id])) {\n        window.PyViz.kernels[plot_id].registerCommTarget(comm_id, function(comm) {\n          comm.onMsg = msg_handler;\n        });\n      } else if (typeof google != 'undefined' && google.colab.kernel != null) {\n        google.colab.kernel.comms.registerTarget(comm_id, (comm) => {\n          var messages = comm.messages[Symbol.asyncIterator]();\n          function processIteratorResult(result) {\n            var message = result.value;\n            var content = {data: message.data, comm_id};\n            var buffers = []\n            for (var buffer of message.buffers || []) {\n              buffers.push(new DataView(buffer))\n            }\n            var metadata = message.metadata || {};\n            var msg = {content, buffers, metadata}\n            msg_handler(msg);\n            return messages.next().then(processIteratorResult);\n          }\n          return messages.next().then(processIteratorResult);\n        })\n      }\n    }\n\n    JupyterCommManager.prototype.get_client_comm = function(plot_id, comm_id, msg_handler) {\n      if (comm_id in window.PyViz.comms) {\n        return window.PyViz.comms[comm_id];\n      } else if (window.comm_manager || ((window.Jupyter !== undefined) && (Jupyter.notebook.kernel != null))) {\n        var comm_manager = window.comm_manager || Jupyter.notebook.kernel.comm_manager;\n        var comm = comm_manager.new_comm(comm_id, {}, {}, {}, comm_id);\n        if (msg_handler) {\n          comm.on_msg(msg_handler);\n        }\n      } else if ((plot_id in window.PyViz.kernels) && (window.PyViz.kernels[plot_id])) {\n        var comm = window.PyViz.kernels[plot_id].connectToComm(comm_id);\n        let retries = 0;\n        const open = () => {\n          if (comm.active) {\n            comm.open();\n          } else if (retries > 3) {\n            console.warn('Comm target never activated')\n          } else {\n            retries += 1\n            setTimeout(open, 500)\n          }\n        }\n        if (comm.active) {\n          comm.open();\n        } else {\n          setTimeout(open, 500)\n        }\n        if (msg_handler) {\n          comm.onMsg = msg_handler;\n        }\n      } else if (typeof google != 'undefined' && google.colab.kernel != null) {\n        var comm_promise = google.colab.kernel.comms.open(comm_id)\n        comm_promise.then((comm) => {\n          window.PyViz.comms[comm_id] = comm;\n          if (msg_handler) {\n            var messages = comm.messages[Symbol.asyncIterator]();\n            function processIteratorResult(result) {\n              var message = result.value;\n              var content = {data: message.data};\n              var metadata = message.metadata || {comm_id};\n              var msg = {content, metadata}\n              msg_handler(msg);\n              return messages.next().then(processIteratorResult);\n            }\n            return messages.next().then(processIteratorResult);\n          }\n        })\n        var sendClosure = (data, metadata, buffers, disposeOnDone) => {\n          return comm_promise.then((comm) => {\n            comm.send(data, metadata, buffers, disposeOnDone);\n          });\n        };\n        var comm = {\n          send: sendClosure\n        };\n      }\n      window.PyViz.comms[comm_id] = comm;\n      return comm;\n    }\n    window.PyViz.comm_manager = new JupyterCommManager();\n    \n\n\nvar JS_MIME_TYPE = 'application/javascript';\nvar HTML_MIME_TYPE = 'text/html';\nvar EXEC_MIME_TYPE = 'application/vnd.holoviews_exec.v0+json';\nvar CLASS_NAME = 'output';\n\n/**\n * Render data to the DOM node\n */\nfunction render(props, node) {\n  var div = document.createElement(\"div\");\n  var script = document.createElement(\"script\");\n  node.appendChild(div);\n  node.appendChild(script);\n}\n\n/**\n * Handle when a new output is added\n */\nfunction handle_add_output(event, handle) {\n  var output_area = handle.output_area;\n  var output = handle.output;\n  if ((output.data == undefined) || (!output.data.hasOwnProperty(EXEC_MIME_TYPE))) {\n    return\n  }\n  var id = output.metadata[EXEC_MIME_TYPE][\"id\"];\n  var toinsert = output_area.element.find(\".\" + CLASS_NAME.split(' ')[0]);\n  if (id !== undefined) {\n    var nchildren = toinsert.length;\n    var html_node = toinsert[nchildren-1].children[0];\n    html_node.innerHTML = output.data[HTML_MIME_TYPE];\n    var scripts = [];\n    var nodelist = html_node.querySelectorAll(\"script\");\n    for (var i in nodelist) {\n      if (nodelist.hasOwnProperty(i)) {\n        scripts.push(nodelist[i])\n      }\n    }\n\n    scripts.forEach( function (oldScript) {\n      var newScript = document.createElement(\"script\");\n      var attrs = [];\n      var nodemap = oldScript.attributes;\n      for (var j in nodemap) {\n        if (nodemap.hasOwnProperty(j)) {\n          attrs.push(nodemap[j])\n        }\n      }\n      attrs.forEach(function(attr) { newScript.setAttribute(attr.name, attr.value) });\n      newScript.appendChild(document.createTextNode(oldScript.innerHTML));\n      oldScript.parentNode.replaceChild(newScript, oldScript);\n    });\n    if (JS_MIME_TYPE in output.data) {\n      toinsert[nchildren-1].children[1].textContent = output.data[JS_MIME_TYPE];\n    }\n    output_area._hv_plot_id = id;\n    if ((window.Bokeh !== undefined) && (id in Bokeh.index)) {\n      window.PyViz.plot_index[id] = Bokeh.index[id];\n    } else {\n      window.PyViz.plot_index[id] = null;\n    }\n  } else if (output.metadata[EXEC_MIME_TYPE][\"server_id\"] !== undefined) {\n    var bk_div = document.createElement(\"div\");\n    bk_div.innerHTML = output.data[HTML_MIME_TYPE];\n    var script_attrs = bk_div.children[0].attributes;\n    for (var i = 0; i < script_attrs.length; i++) {\n      toinsert[toinsert.length - 1].childNodes[1].setAttribute(script_attrs[i].name, script_attrs[i].value);\n    }\n    // store reference to server id on output_area\n    output_area._bokeh_server_id = output.metadata[EXEC_MIME_TYPE][\"server_id\"];\n  }\n}\n\n/**\n * Handle when an output is cleared or removed\n */\nfunction handle_clear_output(event, handle) {\n  var id = handle.cell.output_area._hv_plot_id;\n  var server_id = handle.cell.output_area._bokeh_server_id;\n  if (((id === undefined) || !(id in PyViz.plot_index)) && (server_id !== undefined)) { return; }\n  var comm = window.PyViz.comm_manager.get_client_comm(\"hv-extension-comm\", \"hv-extension-comm\", function () {});\n  if (server_id !== null) {\n    comm.send({event_type: 'server_delete', 'id': server_id});\n    return;\n  } else if (comm !== null) {\n    comm.send({event_type: 'delete', 'id': id});\n  }\n  delete PyViz.plot_index[id];\n  if ((window.Bokeh !== undefined) & (id in window.Bokeh.index)) {\n    var doc = window.Bokeh.index[id].model.document\n    doc.clear();\n    const i = window.Bokeh.documents.indexOf(doc);\n    if (i > -1) {\n      window.Bokeh.documents.splice(i, 1);\n    }\n  }\n}\n\n/**\n * Handle kernel restart event\n */\nfunction handle_kernel_cleanup(event, handle) {\n  delete PyViz.comms[\"hv-extension-comm\"];\n  window.PyViz.plot_index = {}\n}\n\n/**\n * Handle update_display_data messages\n */\nfunction handle_update_output(event, handle) {\n  handle_clear_output(event, {cell: {output_area: handle.output_area}})\n  handle_add_output(event, handle)\n}\n\nfunction register_renderer(events, OutputArea) {\n  function append_mime(data, metadata, element) {\n    // create a DOM node to render to\n    var toinsert = this.create_output_subarea(\n    metadata,\n    CLASS_NAME,\n    EXEC_MIME_TYPE\n    );\n    this.keyboard_manager.register_events(toinsert);\n    // Render to node\n    var props = {data: data, metadata: metadata[EXEC_MIME_TYPE]};\n    render(props, toinsert[0]);\n    element.append(toinsert);\n    return toinsert\n  }\n\n  events.on('output_added.OutputArea', handle_add_output);\n  events.on('output_updated.OutputArea', handle_update_output);\n  events.on('clear_output.CodeCell', handle_clear_output);\n  events.on('delete.Cell', handle_clear_output);\n  events.on('kernel_ready.Kernel', handle_kernel_cleanup);\n\n  OutputArea.prototype.register_mime_type(EXEC_MIME_TYPE, append_mime, {\n    safe: true,\n    index: 0\n  });\n}\n\nif (window.Jupyter !== undefined) {\n  try {\n    var events = require('base/js/events');\n    var OutputArea = require('notebook/js/outputarea').OutputArea;\n    if (OutputArea.prototype.mime_types().indexOf(EXEC_MIME_TYPE) == -1) {\n      register_renderer(events, OutputArea);\n    }\n  } catch(err) {\n  }\n}\n",
      "application/vnd.holoviews_load.v0+json": ""
     },
     "metadata": {},
     "output_type": "display_data"
    },
    {
     "data": {
      "text/html": [
       "<style>*[data-root-id],\n",
       "*[data-root-id] > * {\n",
       "  box-sizing: border-box;\n",
       "  font-family: var(--jp-ui-font-family);\n",
       "  font-size: var(--jp-ui-font-size1);\n",
       "  color: var(--vscode-editor-foreground, var(--jp-ui-font-color1));\n",
       "}\n",
       "\n",
       "/* Override VSCode background color */\n",
       ".cell-output-ipywidget-background:has(\n",
       "    > .cell-output-ipywidget-background > .lm-Widget > *[data-root-id]\n",
       "  ),\n",
       ".cell-output-ipywidget-background:has(> .lm-Widget > *[data-root-id]) {\n",
       "  background-color: transparent !important;\n",
       "}\n",
       "</style>"
      ]
     },
     "metadata": {},
     "output_type": "display_data"
    },
    {
     "data": {
      "application/vnd.holoviews_exec.v0+json": "",
      "text/html": [
       "<div id='ec6646e2-b528-4586-8b8a-22671657fcc5'>\n",
       "  <div id=\"e1e44a94-dc16-4ab2-b34a-e508300f1670\" data-root-id=\"ec6646e2-b528-4586-8b8a-22671657fcc5\" style=\"display: contents;\"></div>\n",
       "</div>\n",
       "<script type=\"application/javascript\">(function(root) {\n",
       "  var docs_json = {\"9cd474bd-fd3f-4eb4-9247-b499a93775f7\":{\"version\":\"3.4.3\",\"title\":\"Bokeh Application\",\"roots\":[{\"type\":\"object\",\"name\":\"panel.models.browser.BrowserInfo\",\"id\":\"ec6646e2-b528-4586-8b8a-22671657fcc5\"},{\"type\":\"object\",\"name\":\"panel.models.comm_manager.CommManager\",\"id\":\"14922c45-c157-45bf-8a2a-64f9fa8b36b9\",\"attributes\":{\"plot_id\":\"ec6646e2-b528-4586-8b8a-22671657fcc5\",\"comm_id\":\"227405a151f4412aba76827d7c288c39\",\"client_comm_id\":\"4976a5492a414d7483477dba6e1b90d7\"}}],\"defs\":[{\"type\":\"model\",\"name\":\"ReactiveHTML1\"},{\"type\":\"model\",\"name\":\"FlexBox1\",\"properties\":[{\"name\":\"align_content\",\"kind\":\"Any\",\"default\":\"flex-start\"},{\"name\":\"align_items\",\"kind\":\"Any\",\"default\":\"flex-start\"},{\"name\":\"flex_direction\",\"kind\":\"Any\",\"default\":\"row\"},{\"name\":\"flex_wrap\",\"kind\":\"Any\",\"default\":\"wrap\"},{\"name\":\"gap\",\"kind\":\"Any\",\"default\":\"\"},{\"name\":\"justify_content\",\"kind\":\"Any\",\"default\":\"flex-start\"}]},{\"type\":\"model\",\"name\":\"FloatPanel1\",\"properties\":[{\"name\":\"config\",\"kind\":\"Any\",\"default\":{\"type\":\"map\"}},{\"name\":\"contained\",\"kind\":\"Any\",\"default\":true},{\"name\":\"position\",\"kind\":\"Any\",\"default\":\"right-top\"},{\"name\":\"offsetx\",\"kind\":\"Any\",\"default\":null},{\"name\":\"offsety\",\"kind\":\"Any\",\"default\":null},{\"name\":\"theme\",\"kind\":\"Any\",\"default\":\"primary\"},{\"name\":\"status\",\"kind\":\"Any\",\"default\":\"normalized\"}]},{\"type\":\"model\",\"name\":\"GridStack1\",\"properties\":[{\"name\":\"mode\",\"kind\":\"Any\",\"default\":\"warn\"},{\"name\":\"ncols\",\"kind\":\"Any\",\"default\":null},{\"name\":\"nrows\",\"kind\":\"Any\",\"default\":null},{\"name\":\"allow_resize\",\"kind\":\"Any\",\"default\":true},{\"name\":\"allow_drag\",\"kind\":\"Any\",\"default\":true},{\"name\":\"state\",\"kind\":\"Any\",\"default\":[]}]},{\"type\":\"model\",\"name\":\"drag1\",\"properties\":[{\"name\":\"slider_width\",\"kind\":\"Any\",\"default\":5},{\"name\":\"slider_color\",\"kind\":\"Any\",\"default\":\"black\"},{\"name\":\"value\",\"kind\":\"Any\",\"default\":50}]},{\"type\":\"model\",\"name\":\"click1\",\"properties\":[{\"name\":\"terminal_output\",\"kind\":\"Any\",\"default\":\"\"},{\"name\":\"debug_name\",\"kind\":\"Any\",\"default\":\"\"},{\"name\":\"clears\",\"kind\":\"Any\",\"default\":0}]},{\"type\":\"model\",\"name\":\"FastWrapper1\",\"properties\":[{\"name\":\"object\",\"kind\":\"Any\",\"default\":null},{\"name\":\"style\",\"kind\":\"Any\",\"default\":null}]},{\"type\":\"model\",\"name\":\"NotificationAreaBase1\",\"properties\":[{\"name\":\"js_events\",\"kind\":\"Any\",\"default\":{\"type\":\"map\"}},{\"name\":\"position\",\"kind\":\"Any\",\"default\":\"bottom-right\"},{\"name\":\"_clear\",\"kind\":\"Any\",\"default\":0}]},{\"type\":\"model\",\"name\":\"NotificationArea1\",\"properties\":[{\"name\":\"js_events\",\"kind\":\"Any\",\"default\":{\"type\":\"map\"}},{\"name\":\"notifications\",\"kind\":\"Any\",\"default\":[]},{\"name\":\"position\",\"kind\":\"Any\",\"default\":\"bottom-right\"},{\"name\":\"_clear\",\"kind\":\"Any\",\"default\":0},{\"name\":\"types\",\"kind\":\"Any\",\"default\":[{\"type\":\"map\",\"entries\":[[\"type\",\"warning\"],[\"background\",\"#ffc107\"],[\"icon\",{\"type\":\"map\",\"entries\":[[\"className\",\"fas fa-exclamation-triangle\"],[\"tagName\",\"i\"],[\"color\",\"white\"]]}]]},{\"type\":\"map\",\"entries\":[[\"type\",\"info\"],[\"background\",\"#007bff\"],[\"icon\",{\"type\":\"map\",\"entries\":[[\"className\",\"fas fa-info-circle\"],[\"tagName\",\"i\"],[\"color\",\"white\"]]}]]}]}]},{\"type\":\"model\",\"name\":\"Notification\",\"properties\":[{\"name\":\"background\",\"kind\":\"Any\",\"default\":null},{\"name\":\"duration\",\"kind\":\"Any\",\"default\":3000},{\"name\":\"icon\",\"kind\":\"Any\",\"default\":null},{\"name\":\"message\",\"kind\":\"Any\",\"default\":\"\"},{\"name\":\"notification_type\",\"kind\":\"Any\",\"default\":null},{\"name\":\"_destroyed\",\"kind\":\"Any\",\"default\":false}]},{\"type\":\"model\",\"name\":\"TemplateActions1\",\"properties\":[{\"name\":\"open_modal\",\"kind\":\"Any\",\"default\":0},{\"name\":\"close_modal\",\"kind\":\"Any\",\"default\":0}]},{\"type\":\"model\",\"name\":\"BootstrapTemplateActions1\",\"properties\":[{\"name\":\"open_modal\",\"kind\":\"Any\",\"default\":0},{\"name\":\"close_modal\",\"kind\":\"Any\",\"default\":0}]},{\"type\":\"model\",\"name\":\"TemplateEditor1\",\"properties\":[{\"name\":\"layout\",\"kind\":\"Any\",\"default\":[]}]},{\"type\":\"model\",\"name\":\"MaterialTemplateActions1\",\"properties\":[{\"name\":\"open_modal\",\"kind\":\"Any\",\"default\":0},{\"name\":\"close_modal\",\"kind\":\"Any\",\"default\":0}]},{\"type\":\"model\",\"name\":\"copy_to_clipboard1\",\"properties\":[{\"name\":\"fill\",\"kind\":\"Any\",\"default\":\"none\"},{\"name\":\"value\",\"kind\":\"Any\",\"default\":null}]}]}};\n",
       "  var render_items = [{\"docid\":\"9cd474bd-fd3f-4eb4-9247-b499a93775f7\",\"roots\":{\"ec6646e2-b528-4586-8b8a-22671657fcc5\":\"e1e44a94-dc16-4ab2-b34a-e508300f1670\"},\"root_ids\":[\"ec6646e2-b528-4586-8b8a-22671657fcc5\"]}];\n",
       "  var docs = Object.values(docs_json)\n",
       "  if (!docs) {\n",
       "    return\n",
       "  }\n",
       "  const py_version = docs[0].version.replace('rc', '-rc.').replace('.dev', '-dev.')\n",
       "  async function embed_document(root) {\n",
       "    var Bokeh = get_bokeh(root)\n",
       "    await Bokeh.embed.embed_items_notebook(docs_json, render_items);\n",
       "    for (const render_item of render_items) {\n",
       "      for (const root_id of render_item.root_ids) {\n",
       "\tconst id_el = document.getElementById(root_id)\n",
       "\tif (id_el.children.length && id_el.children[0].hasAttribute('data-root-id')) {\n",
       "\t  const root_el = id_el.children[0]\n",
       "\t  root_el.id = root_el.id + '-rendered'\n",
       "\t  for (const child of root_el.children) {\n",
       "            // Ensure JupyterLab does not capture keyboard shortcuts\n",
       "            // see: https://jupyterlab.readthedocs.io/en/4.1.x/extension/notebook.html#keyboard-interaction-model\n",
       "\t    child.setAttribute('data-lm-suppress-shortcuts', 'true')\n",
       "\t  }\n",
       "\t}\n",
       "      }\n",
       "    }\n",
       "  }\n",
       "  function get_bokeh(root) {\n",
       "    if (root.Bokeh === undefined) {\n",
       "      return null\n",
       "    } else if (root.Bokeh.version !== py_version) {\n",
       "      if (root.Bokeh.versions === undefined || !root.Bokeh.versions.has(py_version)) {\n",
       "\treturn null\n",
       "      }\n",
       "      return root.Bokeh.versions.get(py_version);\n",
       "    } else if (root.Bokeh.version === py_version) {\n",
       "      return root.Bokeh\n",
       "    }\n",
       "    return null\n",
       "  }\n",
       "  function is_loaded(root) {\n",
       "    var Bokeh = get_bokeh(root)\n",
       "    return (Bokeh != null && Bokeh.Panel !== undefined)\n",
       "  }\n",
       "  if (is_loaded(root)) {\n",
       "    embed_document(root);\n",
       "  } else {\n",
       "    var attempts = 0;\n",
       "    var timer = setInterval(function(root) {\n",
       "      if (is_loaded(root)) {\n",
       "        clearInterval(timer);\n",
       "        embed_document(root);\n",
       "      } else if (document.readyState == \"complete\") {\n",
       "        attempts++;\n",
       "        if (attempts > 200) {\n",
       "          clearInterval(timer);\n",
       "\t  var Bokeh = get_bokeh(root)\n",
       "\t  if (Bokeh == null || Bokeh.Panel == null) {\n",
       "            console.warn(\"Panel: ERROR: Unable to run Panel code because Bokeh or Panel library is missing\");\n",
       "\t  } else {\n",
       "\t    console.warn(\"Panel: WARNING: Attempting to render but not all required libraries could be resolved.\")\n",
       "\t    embed_document(root)\n",
       "\t  }\n",
       "        }\n",
       "      }\n",
       "    }, 25, root)\n",
       "  }\n",
       "})(window);</script>"
      ]
     },
     "metadata": {
      "application/vnd.holoviews_exec.v0+json": {
       "id": "ec6646e2-b528-4586-8b8a-22671657fcc5"
      }
     },
     "output_type": "display_data"
    }
   ],
   "source": [
    "pn.extension()"
   ]
  },
  {
   "cell_type": "code",
   "execution_count": 3,
   "id": "2b7490e8",
   "metadata": {},
   "outputs": [
    {
     "data": {
      "application/vnd.jupyter.widget-view+json": {
       "model_id": "6d0246faca0349989ccb806d34176c7c",
       "version_major": 2,
       "version_minor": 0
      },
      "text/plain": [
       "BokehModel(combine_events=True, render_bundle={'docs_json': {'f55d0ef2-664b-47ba-ab86-3b3e6711e7f4': {'version…"
      ]
     },
     "execution_count": 3,
     "metadata": {},
     "output_type": "execute_result"
    }
   ],
   "source": [
    "md = \"\"\"\n",
    "## Abstract\n",
    "This paper demonstrates that inconsistent scaling between training and test sets can cause key data patterns to disappear, harming machine learning performance. Proper normalization---applying scaling parameters learned solely from the training data---is essential to preserve meaningful features and ensure reliable model performance.\n",
    "\"\"\"\n",
    "\n",
    "abstract = pn.pane.Markdown(md)\n",
    "abstract"
   ]
  },
  {
   "cell_type": "code",
   "execution_count": 4,
   "id": "de823fb8",
   "metadata": {},
   "outputs": [
    {
     "data": {
      "application/vnd.jupyter.widget-view+json": {
       "model_id": "342737d81ff64c1b8a7477f032f65d56",
       "version_major": 2,
       "version_minor": 0
      },
      "text/plain": [
       "BokehModel(combine_events=True, render_bundle={'docs_json': {'b3957e8f-eee3-427b-a442-8a55db4f8bd3': {'version…"
      ]
     },
     "execution_count": 4,
     "metadata": {},
     "output_type": "execute_result"
    }
   ],
   "source": [
    "md = \"\"\"\n",
    "## Introduction\n",
    "Normalizing numerical variables in a dataset is essential, especially when employing distance-based machine learning algorithms. This paper does not focus on normalization itself, but rather on the consistent scaling across different data splits, such as training and test sets.\n",
    "\"\"\"\n",
    "\n",
    "introduction = pn.pane.Markdown(md)\n",
    "introduction"
   ]
  },
  {
   "cell_type": "code",
   "execution_count": 5,
   "id": "d2e39b45",
   "metadata": {},
   "outputs": [],
   "source": [
    "md = \"\"\"\n",
    "## A Visual Introduction\n",
    "Given a dataset consisting of pixel information from an image, each observation corresponds to a single pixel related to a specific layer. Different layers may overlap; that is, two observations can share the same coordinates on the two-dimensional canvas. In addition to the coordinates, each pixel has an RGBA value, separated into individual columns, along with a layer ID.\n",
    "\"\"\"\n",
    "\n",
    "visual_intro = pn.pane.Markdown(md)"
   ]
  },
  {
   "cell_type": "code",
   "execution_count": 6,
   "id": "58c353e6",
   "metadata": {},
   "outputs": [],
   "source": [
    "import numpy as np\n",
    "import pandas as pd\n",
    "import matplotlib.pyplot as plt\n",
    "\n",
    "from sklearn.preprocessing import MinMaxScaler\n",
    "from matplotlib.colors import ListedColormap"
   ]
  },
  {
   "cell_type": "code",
   "execution_count": 7,
   "id": "eb04abf2",
   "metadata": {},
   "outputs": [],
   "source": [
    "def get_image_array(X, canvas_template):\n",
    "\tarray = canvas_template.copy()\n",
    "\tii = X['i'].to_numpy().astype(int)\n",
    "\tjj = X['j'].to_numpy().astype(int)\n",
    "\trgba = X[['r', 'g', 'b', 'a']].to_numpy().astype(array.dtype)\n",
    "\tarray[jj, ii] = rgba\n",
    "\treturn array\n",
    "\n",
    "def get_image_array_scaled(X, canvas_template, mono=False, binary=False):\n",
    "\twidth, height = canvas_template.shape[1], canvas_template.shape[0]\n",
    "\n",
    "\tii = (np.round(X['i'] * (width - 1))).to_numpy().astype(int)\n",
    "\tjj = (np.round(X['j'] * (height - 1))).to_numpy().astype(int)\n",
    "\t\n",
    "\tif binary:\n",
    "\t\tarray = np.full((height, width), np.nan)\n",
    "\t\tarray[jj, ii] = 1\n",
    "\t\tarray = np.ma.masked_invalid(array)\n",
    "\n",
    "\telif mono:\n",
    "\t\tarray = np.full((height, width), np.nan)\n",
    "\t\trgba = X[['r', 'g', 'b', 'a']].to_numpy().astype(array.dtype)\n",
    "\t\tfor x, y, rgb in zip(ii, jj, rgba[:, :3]):\n",
    "\t\t\tgray = np.dot(rgb, [0.2989, 0.5870, 0.1140]) / 255.0\n",
    "\t\t\tarray[y, x] = gray\n",
    "\n",
    "\telse:\n",
    "\t\tarray = canvas_template.copy()\n",
    "\t\trgba = X[['r', 'g', 'b', 'a']].to_numpy().astype(array.dtype)\n",
    "\t\tarray[jj, ii] = rgba\n",
    "\n",
    "\treturn array\n",
    "\n",
    "def show_layer(X, canvas_template, ax=None, hide_axes=False, title=\"Layer\"):\n",
    "\tif ax is None:\n",
    "\t\tax = plt.gca()\n",
    "\n",
    "\tax.imshow(get_image_array(X, canvas_template), interpolation=\"none\")\n",
    "\tax.set_title(title)\n",
    "\n",
    "\tif hide_axes:\n",
    "\t\tax.axes.set_axis_off()\n",
    "\n",
    "def show_layer_positions(X, canvas_template, ax=None, hide_axes=False, title=\"Layer\", marker=\".\", color=\"black\", s=.025):\n",
    "\tif ax is None:\n",
    "\t\tax = plt.gca()\n",
    "\n",
    "\tax.scatter(X[\"i\"], X[\"j\"], marker=marker, color=color, s=s)\n",
    "\tax.set_title(title)\n",
    "\n",
    "\tax.axis(\"scaled\")\n",
    "\tax.set_xlim([0, canvas_template.shape[1] - 1])\n",
    "\tax.set_ylim([0, canvas_template.shape[0] - 1])\n",
    "\tax.yaxis.set_inverted(True)\n",
    "\n",
    "\tif hide_axes:\n",
    "\t\tax.axes.set_axis_off()\n",
    "\n",
    "def show_original(x_train, x_test, canvas_template, ax=None, hide_axes=False):\n",
    "\tif ax is None:\n",
    "\t\tax = plt.gca()\n",
    "\n",
    "\timg_arrays = []\n",
    "\timg_arrays.append(get_image_array(x_train, canvas_template))\n",
    "\timg_arrays.append(get_image_array(x_test, canvas_template))\n",
    "\n",
    "\tax.imshow(img_arrays[0], interpolation=\"none\")\n",
    "\tax.imshow(img_arrays[1], interpolation=\"none\")\n",
    "\tax.set_title(\"Original scale\")\n",
    "\n",
    "\tif hide_axes:\n",
    "\t\tax.axes.set_axis_off()\n",
    "\n",
    "def show_scaled(x_train, x_test, canvas_template, features_to_scale, ax=None, hide_axes=False):\n",
    "\tif ax is None:\n",
    "\t\tax = plt.gca()\n",
    "\n",
    "\tscaler = MinMaxScaler()\n",
    "\tscaler.fit(x_train[features_to_scale])\n",
    "\n",
    "\tx_train_scaled = x_train.copy()\n",
    "\tx_train_scaled[features_to_scale] = scaler.transform(x_train_scaled[features_to_scale])\n",
    "\n",
    "\tx_test_scaled = x_test.copy()\n",
    "\tx_test_scaled[features_to_scale] = scaler.transform(x_test_scaled[features_to_scale])\n",
    "\n",
    "\timg_arrays = []\n",
    "\timg_arrays.append(get_image_array_scaled(x_train_scaled, canvas_template))\n",
    "\timg_arrays.append(get_image_array_scaled(x_test_scaled, canvas_template))\n",
    "\n",
    "\tax.imshow(img_arrays[0], interpolation=\"none\", extent=(0, 1, 1, 0), aspect='equal')\n",
    "\tax.imshow(img_arrays[1], interpolation=\"none\", extent=(0, 1, 1, 0), aspect='equal')\n",
    "\t\n",
    "\tax.set_xticks([0, 1])\n",
    "\tax.set_yticks([0, 1])\n",
    "\tax.set_title(\"Normalized scale\")\n",
    "\n",
    "\tif hide_axes:\n",
    "\t\tax.axes.set_axis_off()\n",
    "\n",
    "def show_badly_scaled(x_train, x_test, canvas_template, features_to_scale, ax=None, hide_axes=False, extent=(0, 1, 1, 0), aspect=\"equal\", interpolation=\"none\",\n",
    "\t\t\t\t\t  mono=False, mono_cmap=\"binary\", highlight=False, highlight_color=\"red\"):\n",
    "\tif ax is None:\n",
    "\t\tax = plt.gca()\n",
    "\n",
    "\tscaler = MinMaxScaler()\n",
    "\n",
    "\tx_train_scaled = x_train.copy()\n",
    "\tx_train_scaled[features_to_scale] = scaler.fit_transform(x_train_scaled[features_to_scale])\n",
    "\n",
    "\tx_test_scaled = x_test.copy()\n",
    "\tx_test_scaled[features_to_scale] = scaler.fit_transform(x_test_scaled[features_to_scale])\n",
    "\n",
    "\timg_arrays = []\n",
    "\timg_arrays.append(get_image_array_scaled(x_train_scaled, canvas_template, mono=mono))\n",
    "\timg_arrays.append(get_image_array_scaled(x_test_scaled, canvas_template, mono=mono, binary=highlight))\n",
    "\n",
    "\tax.imshow(img_arrays[0], interpolation=\"none\", extent=extent, aspect=aspect, cmap=mono_cmap)\n",
    "\n",
    "\tif highlight:\n",
    "\t\tmono_cmap = ListedColormap([highlight_color])\n",
    "\n",
    "\tax.imshow(img_arrays[1], interpolation=interpolation, extent=extent, aspect=aspect, cmap=mono_cmap)\n",
    "\n",
    "\tax.set_xticks([0, 1])\n",
    "\tax.set_yticks([0, 1])\n",
    "\tax.set_title(\"Improperly normalized scale\")\n",
    "\n",
    "\tif hide_axes:\n",
    "\t\tax.axes.set_axis_off()"
   ]
  },
  {
   "cell_type": "code",
   "execution_count": 8,
   "id": "f4fbafed",
   "metadata": {},
   "outputs": [],
   "source": [
    "import imageio.v3 as iio"
   ]
  },
  {
   "cell_type": "code",
   "execution_count": 9,
   "id": "087273c0",
   "metadata": {},
   "outputs": [],
   "source": [
    "dirurl = \"./resources\"\n",
    "file_names = [\"background_medium.png\", \"object_medium.png\"]\n",
    "\n",
    "images = []\n",
    "image_pixels = []\n",
    "\n",
    "for image_name in file_names:\n",
    "\timg = iio.imread(f\"{dirurl}/{image_name}\")\n",
    "\timages.append(img)\n",
    "\timage_pixels.append(img)"
   ]
  },
  {
   "cell_type": "code",
   "execution_count": 10,
   "id": "1e523029",
   "metadata": {},
   "outputs": [],
   "source": [
    "column_names = [\"i\", \"j\", \"r\", \"g\", \"b\", \"a\", \"lid\"]\n",
    "data = pd.DataFrame(columns=column_names)\n",
    "\n",
    "\n",
    "for (img_i, img), pixels in zip(enumerate(images), image_pixels):\n",
    "\trows = []\n",
    "\th, w = img.shape[:2]\n",
    "\n",
    "\tfor (y, x) in np.ndindex((h, w)):\n",
    "\t\tr, g, b, a = pixels[y, x]\n",
    "\t\ttransparent = (np.array([r, g, b, a]) == 0).all()\n",
    "\t\t\n",
    "\t\tif not transparent:\n",
    "\t\t\trows.append({\"i\": y, \"j\": x, \"r\": r, \"g\": g, \"b\": b, \"a\": a, \"lid\": img_i})\n",
    "\n",
    "\tdata = pd.concat((data, pd.DataFrame(rows, columns=column_names)), ignore_index=True)"
   ]
  },
  {
   "cell_type": "code",
   "execution_count": 11,
   "id": "2c714a6f",
   "metadata": {},
   "outputs": [
    {
     "data": {
      "application/vnd.microsoft.datawrangler.viewer.v0+json": {
       "columns": [
        {
         "name": "index",
         "rawType": "int64",
         "type": "integer"
        },
        {
         "name": "i",
         "rawType": "object",
         "type": "unknown"
        },
        {
         "name": "j",
         "rawType": "object",
         "type": "unknown"
        },
        {
         "name": "r",
         "rawType": "object",
         "type": "unknown"
        },
        {
         "name": "g",
         "rawType": "object",
         "type": "unknown"
        },
        {
         "name": "b",
         "rawType": "object",
         "type": "unknown"
        },
        {
         "name": "a",
         "rawType": "object",
         "type": "unknown"
        },
        {
         "name": "lid",
         "rawType": "object",
         "type": "unknown"
        }
       ],
       "ref": "1f4d4b67-7908-4d7c-96ff-56d66c666e8f",
       "rows": [
        [
         "0",
         "0",
         "0",
         "78",
         "70",
         "53",
         "255",
         "0"
        ],
        [
         "1",
         "0",
         "1",
         "79",
         "72",
         "57",
         "255",
         "0"
        ],
        [
         "2",
         "0",
         "2",
         "85",
         "79",
         "63",
         "255",
         "0"
        ],
        [
         "3",
         "0",
         "3",
         "85",
         "78",
         "61",
         "255",
         "0"
        ],
        [
         "4",
         "0",
         "4",
         "84",
         "75",
         "59",
         "255",
         "0"
        ],
        [
         "5",
         "0",
         "5",
         "84",
         "76",
         "59",
         "255",
         "0"
        ],
        [
         "6",
         "0",
         "6",
         "85",
         "78",
         "60",
         "255",
         "0"
        ],
        [
         "7",
         "0",
         "7",
         "84",
         "76",
         "60",
         "255",
         "0"
        ],
        [
         "8",
         "0",
         "8",
         "85",
         "76",
         "60",
         "255",
         "0"
        ],
        [
         "9",
         "0",
         "9",
         "86",
         "77",
         "60",
         "255",
         "0"
        ],
        [
         "10",
         "0",
         "10",
         "84",
         "76",
         "60",
         "255",
         "0"
        ],
        [
         "11",
         "0",
         "11",
         "86",
         "79",
         "63",
         "255",
         "0"
        ],
        [
         "12",
         "0",
         "12",
         "86",
         "77",
         "62",
         "255",
         "0"
        ],
        [
         "13",
         "0",
         "13",
         "85",
         "77",
         "61",
         "255",
         "0"
        ],
        [
         "14",
         "0",
         "14",
         "90",
         "82",
         "67",
         "255",
         "0"
        ],
        [
         "15",
         "0",
         "15",
         "87",
         "79",
         "62",
         "255",
         "0"
        ],
        [
         "16",
         "0",
         "16",
         "83",
         "77",
         "60",
         "255",
         "0"
        ],
        [
         "17",
         "0",
         "17",
         "80",
         "74",
         "58",
         "255",
         "0"
        ],
        [
         "18",
         "0",
         "18",
         "80",
         "73",
         "56",
         "255",
         "0"
        ],
        [
         "19",
         "0",
         "19",
         "81",
         "74",
         "57",
         "255",
         "0"
        ],
        [
         "20",
         "0",
         "20",
         "82",
         "75",
         "57",
         "255",
         "0"
        ],
        [
         "21",
         "0",
         "21",
         "79",
         "72",
         "55",
         "255",
         "0"
        ],
        [
         "22",
         "0",
         "22",
         "82",
         "74",
         "56",
         "255",
         "0"
        ],
        [
         "23",
         "0",
         "23",
         "87",
         "77",
         "58",
         "255",
         "0"
        ],
        [
         "24",
         "0",
         "24",
         "84",
         "75",
         "57",
         "255",
         "0"
        ],
        [
         "25",
         "0",
         "25",
         "81",
         "73",
         "55",
         "255",
         "0"
        ],
        [
         "26",
         "0",
         "26",
         "83",
         "74",
         "55",
         "255",
         "0"
        ],
        [
         "27",
         "0",
         "27",
         "83",
         "73",
         "54",
         "255",
         "0"
        ],
        [
         "28",
         "0",
         "28",
         "82",
         "72",
         "54",
         "255",
         "0"
        ],
        [
         "29",
         "0",
         "29",
         "82",
         "73",
         "56",
         "255",
         "0"
        ],
        [
         "30",
         "0",
         "30",
         "85",
         "76",
         "59",
         "255",
         "0"
        ],
        [
         "31",
         "0",
         "31",
         "88",
         "80",
         "63",
         "255",
         "0"
        ],
        [
         "32",
         "0",
         "32",
         "86",
         "79",
         "62",
         "255",
         "0"
        ],
        [
         "33",
         "0",
         "33",
         "88",
         "80",
         "63",
         "255",
         "0"
        ],
        [
         "34",
         "0",
         "34",
         "86",
         "78",
         "61",
         "255",
         "0"
        ],
        [
         "35",
         "0",
         "35",
         "85",
         "77",
         "59",
         "255",
         "0"
        ],
        [
         "36",
         "0",
         "36",
         "86",
         "77",
         "60",
         "255",
         "0"
        ],
        [
         "37",
         "0",
         "37",
         "87",
         "79",
         "62",
         "255",
         "0"
        ],
        [
         "38",
         "0",
         "38",
         "88",
         "82",
         "64",
         "255",
         "0"
        ],
        [
         "39",
         "0",
         "39",
         "91",
         "84",
         "65",
         "255",
         "0"
        ],
        [
         "40",
         "0",
         "40",
         "90",
         "81",
         "63",
         "255",
         "0"
        ],
        [
         "41",
         "0",
         "41",
         "88",
         "80",
         "61",
         "255",
         "0"
        ],
        [
         "42",
         "0",
         "42",
         "85",
         "77",
         "58",
         "255",
         "0"
        ],
        [
         "43",
         "0",
         "43",
         "86",
         "77",
         "57",
         "255",
         "0"
        ],
        [
         "44",
         "0",
         "44",
         "81",
         "74",
         "55",
         "255",
         "0"
        ],
        [
         "45",
         "0",
         "45",
         "75",
         "69",
         "51",
         "255",
         "0"
        ],
        [
         "46",
         "0",
         "46",
         "68",
         "62",
         "47",
         "255",
         "0"
        ],
        [
         "47",
         "0",
         "47",
         "57",
         "52",
         "40",
         "255",
         "0"
        ],
        [
         "48",
         "0",
         "48",
         "52",
         "48",
         "37",
         "255",
         "0"
        ],
        [
         "49",
         "0",
         "49",
         "52",
         "47",
         "37",
         "255",
         "0"
        ]
       ],
       "shape": {
        "columns": 7,
        "rows": 670263
       }
      },
      "text/html": [
       "<div>\n",
       "<style scoped>\n",
       "    .dataframe tbody tr th:only-of-type {\n",
       "        vertical-align: middle;\n",
       "    }\n",
       "\n",
       "    .dataframe tbody tr th {\n",
       "        vertical-align: top;\n",
       "    }\n",
       "\n",
       "    .dataframe thead th {\n",
       "        text-align: right;\n",
       "    }\n",
       "</style>\n",
       "<table border=\"1\" class=\"dataframe\">\n",
       "  <thead>\n",
       "    <tr style=\"text-align: right;\">\n",
       "      <th></th>\n",
       "      <th>i</th>\n",
       "      <th>j</th>\n",
       "      <th>r</th>\n",
       "      <th>g</th>\n",
       "      <th>b</th>\n",
       "      <th>a</th>\n",
       "      <th>lid</th>\n",
       "    </tr>\n",
       "  </thead>\n",
       "  <tbody>\n",
       "    <tr>\n",
       "      <th>0</th>\n",
       "      <td>0</td>\n",
       "      <td>0</td>\n",
       "      <td>78</td>\n",
       "      <td>70</td>\n",
       "      <td>53</td>\n",
       "      <td>255</td>\n",
       "      <td>0</td>\n",
       "    </tr>\n",
       "    <tr>\n",
       "      <th>1</th>\n",
       "      <td>0</td>\n",
       "      <td>1</td>\n",
       "      <td>79</td>\n",
       "      <td>72</td>\n",
       "      <td>57</td>\n",
       "      <td>255</td>\n",
       "      <td>0</td>\n",
       "    </tr>\n",
       "    <tr>\n",
       "      <th>2</th>\n",
       "      <td>0</td>\n",
       "      <td>2</td>\n",
       "      <td>85</td>\n",
       "      <td>79</td>\n",
       "      <td>63</td>\n",
       "      <td>255</td>\n",
       "      <td>0</td>\n",
       "    </tr>\n",
       "    <tr>\n",
       "      <th>3</th>\n",
       "      <td>0</td>\n",
       "      <td>3</td>\n",
       "      <td>85</td>\n",
       "      <td>78</td>\n",
       "      <td>61</td>\n",
       "      <td>255</td>\n",
       "      <td>0</td>\n",
       "    </tr>\n",
       "    <tr>\n",
       "      <th>4</th>\n",
       "      <td>0</td>\n",
       "      <td>4</td>\n",
       "      <td>84</td>\n",
       "      <td>75</td>\n",
       "      <td>59</td>\n",
       "      <td>255</td>\n",
       "      <td>0</td>\n",
       "    </tr>\n",
       "    <tr>\n",
       "      <th>...</th>\n",
       "      <td>...</td>\n",
       "      <td>...</td>\n",
       "      <td>...</td>\n",
       "      <td>...</td>\n",
       "      <td>...</td>\n",
       "      <td>...</td>\n",
       "      <td>...</td>\n",
       "    </tr>\n",
       "    <tr>\n",
       "      <th>670258</th>\n",
       "      <td>432</td>\n",
       "      <td>436</td>\n",
       "      <td>0</td>\n",
       "      <td>0</td>\n",
       "      <td>0</td>\n",
       "      <td>1</td>\n",
       "      <td>1</td>\n",
       "    </tr>\n",
       "    <tr>\n",
       "      <th>670259</th>\n",
       "      <td>433</td>\n",
       "      <td>432</td>\n",
       "      <td>55</td>\n",
       "      <td>46</td>\n",
       "      <td>36</td>\n",
       "      <td>28</td>\n",
       "      <td>1</td>\n",
       "    </tr>\n",
       "    <tr>\n",
       "      <th>670260</th>\n",
       "      <td>433</td>\n",
       "      <td>433</td>\n",
       "      <td>51</td>\n",
       "      <td>45</td>\n",
       "      <td>38</td>\n",
       "      <td>40</td>\n",
       "      <td>1</td>\n",
       "    </tr>\n",
       "    <tr>\n",
       "      <th>670261</th>\n",
       "      <td>433</td>\n",
       "      <td>434</td>\n",
       "      <td>36</td>\n",
       "      <td>36</td>\n",
       "      <td>36</td>\n",
       "      <td>7</td>\n",
       "      <td>1</td>\n",
       "    </tr>\n",
       "    <tr>\n",
       "      <th>670262</th>\n",
       "      <td>433</td>\n",
       "      <td>435</td>\n",
       "      <td>0</td>\n",
       "      <td>0</td>\n",
       "      <td>0</td>\n",
       "      <td>1</td>\n",
       "      <td>1</td>\n",
       "    </tr>\n",
       "  </tbody>\n",
       "</table>\n",
       "<p>670263 rows × 7 columns</p>\n",
       "</div>"
      ],
      "text/plain": [
       "          i    j   r   g   b    a lid\n",
       "0         0    0  78  70  53  255   0\n",
       "1         0    1  79  72  57  255   0\n",
       "2         0    2  85  79  63  255   0\n",
       "3         0    3  85  78  61  255   0\n",
       "4         0    4  84  75  59  255   0\n",
       "...     ...  ...  ..  ..  ..  ...  ..\n",
       "670258  432  436   0   0   0    1   1\n",
       "670259  433  432  55  46  36   28   1\n",
       "670260  433  433  51  45  38   40   1\n",
       "670261  433  434  36  36  36    7   1\n",
       "670262  433  435   0   0   0    1   1\n",
       "\n",
       "[670263 rows x 7 columns]"
      ]
     },
     "execution_count": 11,
     "metadata": {},
     "output_type": "execute_result"
    }
   ],
   "source": [
    "data"
   ]
  },
  {
   "cell_type": "code",
   "execution_count": 12,
   "id": "897c2212",
   "metadata": {},
   "outputs": [
    {
     "data": {
      "application/vnd.jupyter.widget-view+json": {
       "model_id": "bf07a227f66b47e88ea9b35b96fc4d79",
       "version_major": 2,
       "version_minor": 0
      },
      "text/plain": [
       "BokehModel(combine_events=True, render_bundle={'docs_json': {'cec67f90-54fe-493b-9967-b4e9278c4a43': {'version…"
      ]
     },
     "execution_count": 12,
     "metadata": {},
     "output_type": "execute_result"
    }
   ],
   "source": [
    "data_card = pn.Card(title=\"Sample data.\", collapsible=False)\n",
    "data_card.append(pn.pane.DataFrame(data, max_rows=10, width=400))\n",
    "\n",
    "data_card"
   ]
  },
  {
   "cell_type": "markdown",
   "id": "11570f1c",
   "metadata": {},
   "source": [
    "## App"
   ]
  },
  {
   "cell_type": "code",
   "execution_count": 13,
   "id": "c8e76c26",
   "metadata": {},
   "outputs": [
    {
     "data": {
      "application/vnd.jupyter.widget-view+json": {
       "model_id": "6a767020fe0340fbae4c1214bba11fab",
       "version_major": 2,
       "version_minor": 0
      },
      "text/plain": [
       "BokehModel(combine_events=True, render_bundle={'docs_json': {'35f1d467-e74f-4c52-88e9-63ece6022353': {'version…"
      ]
     },
     "execution_count": 13,
     "metadata": {},
     "output_type": "execute_result"
    }
   ],
   "source": [
    "app = pn.Column(\n",
    "    abstract,\n",
    "    introduction,\n",
    "    visual_intro,\n",
    "    data_card\n",
    ")\n",
    "\n",
    "app.servable()"
   ]
  }
 ],
 "metadata": {
  "kernelspec": {
   "display_name": "Python 3",
   "language": "python",
   "name": "python3"
  },
  "language_info": {
   "codemirror_mode": {
    "name": "ipython",
    "version": 3
   },
   "file_extension": ".py",
   "mimetype": "text/x-python",
   "name": "python",
   "nbconvert_exporter": "python",
   "pygments_lexer": "ipython3",
   "version": "3.9.6"
  }
 },
 "nbformat": 4,
 "nbformat_minor": 5
}
